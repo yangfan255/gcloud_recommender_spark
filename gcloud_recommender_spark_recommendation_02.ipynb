{
  "nbformat": 4,
  "nbformat_minor": 0,
  "metadata": {
    "colab": {
      "name": "allcollaborative.ipynb",
      "version": "0.3.2",
      "provenance": [],
      "collapsed_sections": []
    },
    "kernelspec": {
      "name": "python3",
      "display_name": "Python 3"
    },
    "accelerator": "TPU"
  },
  "cells": [
    {
      "metadata": {
        "id": "wghBpI_XOeQl",
        "colab_type": "code",
        "outputId": "f094a7fd-e5cc-418a-d43f-1e2be2698ead",
        "colab": {
          "base_uri": "https://localhost:8080/",
          "height": 119
        }
      },
      "cell_type": "code",
      "source": [
        "!ls"
      ],
      "execution_count": 0,
      "outputs": [
        {
          "output_type": "stream",
          "text": [
            " accommodations.csv\t     implicit_ratings.csv\n",
            " drive\t\t\t     ratings.csv\n",
            "'implicit_ratings (1).csv'   recommender_model01_0116_selected.csv\n",
            "'implicit_ratings (2).csv'  'recommender_model_0116 (1).csv'\n",
            "'implicit_ratings (3).csv'   recommender_model_0116.csv\n",
            "'implicit_ratings (4).csv'   sample_data\n"
          ],
          "name": "stdout"
        }
      ]
    },
    {
      "metadata": {
        "id": "N2kLL4SUnkda",
        "colab_type": "text"
      },
      "cell_type": "markdown",
      "source": [
        "I plan to build recommendation system on google gcloud. I want to make sure all codes are good before gcloud. Thus, I set up spark in google colab with TPU.\n",
        "\n",
        "The data and codes are originally from: https://github.com/GoogleCloudPlatform/spark-recommendation-engine\n",
        "\n",
        "**Part 2**: **use the best parameter in ALS model for prediction**"
      ]
    },
    {
      "metadata": {
        "id": "lhCxmrhpUyzO",
        "colab_type": "code",
        "colab": {}
      },
      "cell_type": "code",
      "source": [
        "import os\n",
        "import warnings\n",
        "warnings.filterwarnings('ignore')\n",
        "import pandas as pd\n",
        "\n",
        "import pyspark.sql.functions as F\n",
        "from pyspark.ml import Pipeline\n",
        "from pyspark.ml.feature import Bucketizer, MinMaxScaler, VectorAssembler\n",
        "from pyspark.sql.types import DoubleType\n",
        "from pyspark.ml.evaluation import RegressionEvaluator\n",
        "from pyspark.ml.recommendation import ALS\n",
        "from pyspark.ml import Transformer\n",
        "from pyspark.sql import Window\n",
        "\n",
        "from pyspark.sql import SparkSession\n",
        "from pyspark import SparkContext\n",
        "spark = SparkSession.builder.master(\"local\").getOrCreate()\n",
        "sc = SparkContext.getOrCreate()"
      ],
      "execution_count": 0,
      "outputs": []
    },
    {
      "metadata": {
        "id": "qG2gAFgnOke-",
        "colab_type": "code",
        "colab": {}
      },
      "cell_type": "code",
      "source": [
        "# dfAccos = sqlContext.read.jdbc(url=jdbcUrl, table=TABLE_ITEMS)\n",
        "# dfRates = sqlContext.read.jdbc(url=jdbcUrl, table=TABLE_RATINGS)"
      ],
      "execution_count": 0,
      "outputs": []
    },
    {
      "metadata": {
        "id": "SjBT0rTPOkjQ",
        "colab_type": "code",
        "colab": {}
      },
      "cell_type": "code",
      "source": [
        "#dfAccos = spark.read.csv('accommodations.csv', header=True, inferSchema=True).cache()\n",
        "dfAccos = spark.read.csv('accommodations.csv')"
      ],
      "execution_count": 0,
      "outputs": []
    },
    {
      "metadata": {
        "id": "ZJC_hB5rVH_b",
        "colab_type": "code",
        "outputId": "16e626f6-7c74-4721-90d6-82532fcc00b0",
        "colab": {
          "base_uri": "https://localhost:8080/",
          "height": 204
        }
      },
      "cell_type": "code",
      "source": [
        "pd.DataFrame(dfAccos.take(5), columns=dfAccos.columns)"
      ],
      "execution_count": 0,
      "outputs": [
        {
          "output_type": "execute_result",
          "data": {
            "text/html": [
              "<div>\n",
              "<style scoped>\n",
              "    .dataframe tbody tr th:only-of-type {\n",
              "        vertical-align: middle;\n",
              "    }\n",
              "\n",
              "    .dataframe tbody tr th {\n",
              "        vertical-align: top;\n",
              "    }\n",
              "\n",
              "    .dataframe thead th {\n",
              "        text-align: right;\n",
              "    }\n",
              "</style>\n",
              "<table border=\"1\" class=\"dataframe\">\n",
              "  <thead>\n",
              "    <tr style=\"text-align: right;\">\n",
              "      <th></th>\n",
              "      <th>_c0</th>\n",
              "      <th>_c1</th>\n",
              "      <th>_c2</th>\n",
              "      <th>_c3</th>\n",
              "      <th>_c4</th>\n",
              "      <th>_c5</th>\n",
              "      <th>_c6</th>\n",
              "    </tr>\n",
              "  </thead>\n",
              "  <tbody>\n",
              "    <tr>\n",
              "      <th>0</th>\n",
              "      <td>1</td>\n",
              "      <td>Comfy Quiet Chalet</td>\n",
              "      <td>Vancouver</td>\n",
              "      <td>50</td>\n",
              "      <td>3</td>\n",
              "      <td>3.1</td>\n",
              "      <td>cottage</td>\n",
              "    </tr>\n",
              "    <tr>\n",
              "      <th>1</th>\n",
              "      <td>2</td>\n",
              "      <td>Cozy Calm Hut</td>\n",
              "      <td>London</td>\n",
              "      <td>65</td>\n",
              "      <td>2</td>\n",
              "      <td>4.1</td>\n",
              "      <td>cottage</td>\n",
              "    </tr>\n",
              "    <tr>\n",
              "      <th>2</th>\n",
              "      <td>3</td>\n",
              "      <td>Agreable Calm Place</td>\n",
              "      <td>London</td>\n",
              "      <td>65</td>\n",
              "      <td>4</td>\n",
              "      <td>4.8</td>\n",
              "      <td>house</td>\n",
              "    </tr>\n",
              "    <tr>\n",
              "      <th>3</th>\n",
              "      <td>4</td>\n",
              "      <td>Colossal Quiet Chateau</td>\n",
              "      <td>Paris</td>\n",
              "      <td>3400</td>\n",
              "      <td>16</td>\n",
              "      <td>2.7</td>\n",
              "      <td>castle</td>\n",
              "    </tr>\n",
              "    <tr>\n",
              "      <th>4</th>\n",
              "      <td>5</td>\n",
              "      <td>Homy Quiet Shack</td>\n",
              "      <td>Paris</td>\n",
              "      <td>50</td>\n",
              "      <td>1</td>\n",
              "      <td>1.1</td>\n",
              "      <td>cottage</td>\n",
              "    </tr>\n",
              "  </tbody>\n",
              "</table>\n",
              "</div>"
            ],
            "text/plain": [
              "  _c0                     _c1        _c2   _c3 _c4  _c5      _c6\n",
              "0   1      Comfy Quiet Chalet  Vancouver    50   3  3.1  cottage\n",
              "1   2           Cozy Calm Hut     London    65   2  4.1  cottage\n",
              "2   3     Agreable Calm Place     London    65   4  4.8    house\n",
              "3   4  Colossal Quiet Chateau      Paris  3400  16  2.7   castle\n",
              "4   5        Homy Quiet Shack      Paris    50   1  1.1  cottage"
            ]
          },
          "metadata": {
            "tags": []
          },
          "execution_count": 47
        }
      ]
    },
    {
      "metadata": {
        "id": "R1E5q27aV8k9",
        "colab_type": "code",
        "colab": {}
      },
      "cell_type": "code",
      "source": [
        "dfAccos = dfAccos.withColumnRenamed('_c0', 'id')\\\n",
        ".withColumnRenamed('_c1', 'title')\\\n",
        ".withColumnRenamed('_c2', 'location')\\\n",
        ".withColumnRenamed('_c3', 'price')\\\n",
        ".withColumnRenamed('_c4', 'rooms')\\\n",
        ".withColumnRenamed('_c5', 'rating')\\\n",
        ".withColumnRenamed('_c6', 'type')\\\n"
      ],
      "execution_count": 0,
      "outputs": []
    },
    {
      "metadata": {
        "id": "-Y-l9xEGWeaN",
        "colab_type": "code",
        "outputId": "4a5103ed-c1ef-4e24-ab93-a0aed04700c5",
        "colab": {
          "base_uri": "https://localhost:8080/",
          "height": 204
        }
      },
      "cell_type": "code",
      "source": [
        "pd.DataFrame(dfAccos.take(5), columns=dfAccos.columns)"
      ],
      "execution_count": 74,
      "outputs": [
        {
          "output_type": "execute_result",
          "data": {
            "text/html": [
              "<div>\n",
              "<style scoped>\n",
              "    .dataframe tbody tr th:only-of-type {\n",
              "        vertical-align: middle;\n",
              "    }\n",
              "\n",
              "    .dataframe tbody tr th {\n",
              "        vertical-align: top;\n",
              "    }\n",
              "\n",
              "    .dataframe thead th {\n",
              "        text-align: right;\n",
              "    }\n",
              "</style>\n",
              "<table border=\"1\" class=\"dataframe\">\n",
              "  <thead>\n",
              "    <tr style=\"text-align: right;\">\n",
              "      <th></th>\n",
              "      <th>id</th>\n",
              "      <th>title</th>\n",
              "      <th>location</th>\n",
              "      <th>price</th>\n",
              "      <th>rooms</th>\n",
              "      <th>rating</th>\n",
              "      <th>type</th>\n",
              "    </tr>\n",
              "  </thead>\n",
              "  <tbody>\n",
              "    <tr>\n",
              "      <th>0</th>\n",
              "      <td>1</td>\n",
              "      <td>Comfy Quiet Chalet</td>\n",
              "      <td>Vancouver</td>\n",
              "      <td>50</td>\n",
              "      <td>3</td>\n",
              "      <td>3.1</td>\n",
              "      <td>cottage</td>\n",
              "    </tr>\n",
              "    <tr>\n",
              "      <th>1</th>\n",
              "      <td>2</td>\n",
              "      <td>Cozy Calm Hut</td>\n",
              "      <td>London</td>\n",
              "      <td>65</td>\n",
              "      <td>2</td>\n",
              "      <td>4.1</td>\n",
              "      <td>cottage</td>\n",
              "    </tr>\n",
              "    <tr>\n",
              "      <th>2</th>\n",
              "      <td>3</td>\n",
              "      <td>Agreable Calm Place</td>\n",
              "      <td>London</td>\n",
              "      <td>65</td>\n",
              "      <td>4</td>\n",
              "      <td>4.8</td>\n",
              "      <td>house</td>\n",
              "    </tr>\n",
              "    <tr>\n",
              "      <th>3</th>\n",
              "      <td>4</td>\n",
              "      <td>Colossal Quiet Chateau</td>\n",
              "      <td>Paris</td>\n",
              "      <td>3400</td>\n",
              "      <td>16</td>\n",
              "      <td>2.7</td>\n",
              "      <td>castle</td>\n",
              "    </tr>\n",
              "    <tr>\n",
              "      <th>4</th>\n",
              "      <td>5</td>\n",
              "      <td>Homy Quiet Shack</td>\n",
              "      <td>Paris</td>\n",
              "      <td>50</td>\n",
              "      <td>1</td>\n",
              "      <td>1.1</td>\n",
              "      <td>cottage</td>\n",
              "    </tr>\n",
              "  </tbody>\n",
              "</table>\n",
              "</div>"
            ],
            "text/plain": [
              "  id                   title   location price rooms rating     type\n",
              "0  1      Comfy Quiet Chalet  Vancouver    50     3    3.1  cottage\n",
              "1  2           Cozy Calm Hut     London    65     2    4.1  cottage\n",
              "2  3     Agreable Calm Place     London    65     4    4.8    house\n",
              "3  4  Colossal Quiet Chateau      Paris  3400    16    2.7   castle\n",
              "4  5        Homy Quiet Shack      Paris    50     1    1.1  cottage"
            ]
          },
          "metadata": {
            "tags": []
          },
          "execution_count": 74
        }
      ]
    },
    {
      "metadata": {
        "id": "4AaMemu5ijZG",
        "colab_type": "code",
        "outputId": "5ee95610-5ddf-4244-d9c8-f16e323df744",
        "colab": {
          "base_uri": "https://localhost:8080/",
          "height": 119
        }
      },
      "cell_type": "code",
      "source": [
        "dfAccos.agg(F.countDistinct('id')).show()"
      ],
      "execution_count": 0,
      "outputs": [
        {
          "output_type": "stream",
          "text": [
            "+------------------+\n",
            "|count(DISTINCT id)|\n",
            "+------------------+\n",
            "|                99|\n",
            "+------------------+\n",
            "\n"
          ],
          "name": "stdout"
        }
      ]
    },
    {
      "metadata": {
        "id": "zYd-Kw7FOl30",
        "colab_type": "code",
        "colab": {}
      },
      "cell_type": "code",
      "source": [
        "dfRates = spark.read.csv('ratings.csv')"
      ],
      "execution_count": 0,
      "outputs": []
    },
    {
      "metadata": {
        "id": "9vKDCHYyWhIz",
        "colab_type": "code",
        "outputId": "2b43c037-a3d7-454b-d592-df599d1e261f",
        "colab": {
          "base_uri": "https://localhost:8080/",
          "height": 204
        }
      },
      "cell_type": "code",
      "source": [
        "pd.DataFrame(dfRates.take(5), columns=dfRates.columns)"
      ],
      "execution_count": 0,
      "outputs": [
        {
          "output_type": "execute_result",
          "data": {
            "text/html": [
              "<div>\n",
              "<style scoped>\n",
              "    .dataframe tbody tr th:only-of-type {\n",
              "        vertical-align: middle;\n",
              "    }\n",
              "\n",
              "    .dataframe tbody tr th {\n",
              "        vertical-align: top;\n",
              "    }\n",
              "\n",
              "    .dataframe thead th {\n",
              "        text-align: right;\n",
              "    }\n",
              "</style>\n",
              "<table border=\"1\" class=\"dataframe\">\n",
              "  <thead>\n",
              "    <tr style=\"text-align: right;\">\n",
              "      <th></th>\n",
              "      <th>_c0</th>\n",
              "      <th>_c1</th>\n",
              "      <th>_c2</th>\n",
              "    </tr>\n",
              "  </thead>\n",
              "  <tbody>\n",
              "    <tr>\n",
              "      <th>0</th>\n",
              "      <td>10</td>\n",
              "      <td>1</td>\n",
              "      <td>1</td>\n",
              "    </tr>\n",
              "    <tr>\n",
              "      <th>1</th>\n",
              "      <td>18</td>\n",
              "      <td>1</td>\n",
              "      <td>2</td>\n",
              "    </tr>\n",
              "    <tr>\n",
              "      <th>2</th>\n",
              "      <td>13</td>\n",
              "      <td>1</td>\n",
              "      <td>1</td>\n",
              "    </tr>\n",
              "    <tr>\n",
              "      <th>3</th>\n",
              "      <td>7</td>\n",
              "      <td>2</td>\n",
              "      <td>2</td>\n",
              "    </tr>\n",
              "    <tr>\n",
              "      <th>4</th>\n",
              "      <td>4</td>\n",
              "      <td>2</td>\n",
              "      <td>2</td>\n",
              "    </tr>\n",
              "  </tbody>\n",
              "</table>\n",
              "</div>"
            ],
            "text/plain": [
              "  _c0 _c1 _c2\n",
              "0  10   1   1\n",
              "1  18   1   2\n",
              "2  13   1   1\n",
              "3   7   2   2\n",
              "4   4   2   2"
            ]
          },
          "metadata": {
            "tags": []
          },
          "execution_count": 52
        }
      ]
    },
    {
      "metadata": {
        "id": "OOpXdo1RWhMM",
        "colab_type": "code",
        "colab": {}
      },
      "cell_type": "code",
      "source": [
        "dfRates = dfRates.withColumnRenamed('_c0', 'userId')\\\n",
        ".withColumnRenamed('_c1', 'accoId')\\\n",
        ".withColumnRenamed('_c2', 'rating')\\"
      ],
      "execution_count": 0,
      "outputs": []
    },
    {
      "metadata": {
        "id": "TNBK9XqPXE1k",
        "colab_type": "code",
        "outputId": "fc914601-3129-42f1-fe07-644e6725aabc",
        "colab": {
          "base_uri": "https://localhost:8080/",
          "height": 204
        }
      },
      "cell_type": "code",
      "source": [
        "pd.DataFrame(dfRates.take(5), columns=dfRates.columns)"
      ],
      "execution_count": 0,
      "outputs": [
        {
          "output_type": "execute_result",
          "data": {
            "text/html": [
              "<div>\n",
              "<style scoped>\n",
              "    .dataframe tbody tr th:only-of-type {\n",
              "        vertical-align: middle;\n",
              "    }\n",
              "\n",
              "    .dataframe tbody tr th {\n",
              "        vertical-align: top;\n",
              "    }\n",
              "\n",
              "    .dataframe thead th {\n",
              "        text-align: right;\n",
              "    }\n",
              "</style>\n",
              "<table border=\"1\" class=\"dataframe\">\n",
              "  <thead>\n",
              "    <tr style=\"text-align: right;\">\n",
              "      <th></th>\n",
              "      <th>userId</th>\n",
              "      <th>accoId</th>\n",
              "      <th>rating</th>\n",
              "    </tr>\n",
              "  </thead>\n",
              "  <tbody>\n",
              "    <tr>\n",
              "      <th>0</th>\n",
              "      <td>10</td>\n",
              "      <td>1</td>\n",
              "      <td>1</td>\n",
              "    </tr>\n",
              "    <tr>\n",
              "      <th>1</th>\n",
              "      <td>18</td>\n",
              "      <td>1</td>\n",
              "      <td>2</td>\n",
              "    </tr>\n",
              "    <tr>\n",
              "      <th>2</th>\n",
              "      <td>13</td>\n",
              "      <td>1</td>\n",
              "      <td>1</td>\n",
              "    </tr>\n",
              "    <tr>\n",
              "      <th>3</th>\n",
              "      <td>7</td>\n",
              "      <td>2</td>\n",
              "      <td>2</td>\n",
              "    </tr>\n",
              "    <tr>\n",
              "      <th>4</th>\n",
              "      <td>4</td>\n",
              "      <td>2</td>\n",
              "      <td>2</td>\n",
              "    </tr>\n",
              "  </tbody>\n",
              "</table>\n",
              "</div>"
            ],
            "text/plain": [
              "  userId accoId rating\n",
              "0     10      1      1\n",
              "1     18      1      2\n",
              "2     13      1      1\n",
              "3      7      2      2\n",
              "4      4      2      2"
            ]
          },
          "metadata": {
            "tags": []
          },
          "execution_count": 54
        }
      ]
    },
    {
      "metadata": {
        "id": "dF_uhI7ViJgf",
        "colab_type": "code",
        "outputId": "a6772bd3-96b3-46d9-8dc6-6f379fcd7625",
        "colab": {
          "base_uri": "https://localhost:8080/",
          "height": 119
        }
      },
      "cell_type": "code",
      "source": [
        "dfRates.agg(F.countDistinct('userId'), F.countDistinct('accoId')).show()"
      ],
      "execution_count": 0,
      "outputs": [
        {
          "output_type": "stream",
          "text": [
            "+----------------------+----------------------+\n",
            "|count(DISTINCT userId)|count(DISTINCT accoId)|\n",
            "+----------------------+----------------------+\n",
            "|                    25|                    99|\n",
            "+----------------------+----------------------+\n",
            "\n"
          ],
          "name": "stdout"
        }
      ]
    },
    {
      "metadata": {
        "id": "hCweHR1MjJpq",
        "colab_type": "code",
        "outputId": "763ba890-95f3-4994-c0ec-08bf19ba385d",
        "colab": {
          "base_uri": "https://localhost:8080/",
          "height": 527
        }
      },
      "cell_type": "code",
      "source": [
        "dfRates.groupBy('userId').count().orderBy(F.col('count'), ascending=False).show(25)"
      ],
      "execution_count": 0,
      "outputs": [
        {
          "output_type": "stream",
          "text": [
            "+------+-----+\n",
            "|userId|count|\n",
            "+------+-----+\n",
            "|    16|   75|\n",
            "|     4|   70|\n",
            "|     7|   69|\n",
            "|    23|   66|\n",
            "|    10|   66|\n",
            "|    21|   63|\n",
            "|     8|   58|\n",
            "|    13|   48|\n",
            "|    19|   48|\n",
            "|     1|   46|\n",
            "|    12|   46|\n",
            "|    20|   44|\n",
            "|     2|   43|\n",
            "|     3|   42|\n",
            "|    18|   42|\n",
            "|    17|   42|\n",
            "|     6|   42|\n",
            "|    11|   41|\n",
            "|     5|   39|\n",
            "|    24|   39|\n",
            "|     9|   39|\n",
            "|    15|   37|\n",
            "|    14|   37|\n",
            "|    22|   35|\n",
            "|     0|    9|\n",
            "+------+-----+\n",
            "\n"
          ],
          "name": "stdout"
        }
      ]
    },
    {
      "metadata": {
        "id": "5YHq_ga0mkxR",
        "colab_type": "code",
        "colab": {}
      },
      "cell_type": "code",
      "source": [
        "dfRates.createOrReplaceTempView('ratings')"
      ],
      "execution_count": 0,
      "outputs": []
    },
    {
      "metadata": {
        "id": "gpgeqO8Kmvdh",
        "colab_type": "code",
        "colab": {
          "base_uri": "https://localhost:8080/",
          "height": 255
        },
        "outputId": "a533296f-3e48-437c-be8f-88cc2b54e93b"
      },
      "cell_type": "code",
      "source": [
        "spark.sql(\"SELECT * FROM ratings WHERE userId==0\").show()"
      ],
      "execution_count": 76,
      "outputs": [
        {
          "output_type": "stream",
          "text": [
            "+------+------+------+\n",
            "|userId|accoId|rating|\n",
            "+------+------+------+\n",
            "|     0|     3|     4|\n",
            "|     0|     6|     5|\n",
            "|     0|    12|     5|\n",
            "|     0|    16|     4|\n",
            "|     0|    22|     4|\n",
            "|     0|    28|     4|\n",
            "|     0|    30|     5|\n",
            "|     0|    33|     4|\n",
            "|     0|    38|     4|\n",
            "+------+------+------+\n",
            "\n"
          ],
          "name": "stdout"
        }
      ]
    },
    {
      "metadata": {
        "id": "hYKjI9HKjLYE",
        "colab_type": "code",
        "colab": {}
      },
      "cell_type": "code",
      "source": [
        ""
      ],
      "execution_count": 0,
      "outputs": []
    },
    {
      "metadata": {
        "id": "ylKPKYOtOl93",
        "colab_type": "code",
        "colab": {}
      },
      "cell_type": "code",
      "source": [
        "USER_ID = 0"
      ],
      "execution_count": 0,
      "outputs": []
    },
    {
      "metadata": {
        "id": "T-gv52K5U8As",
        "colab_type": "code",
        "outputId": "18f9d856-9816-4147-fec9-c5b577b5c2bc",
        "colab": {
          "base_uri": "https://localhost:8080/",
          "height": 34
        }
      },
      "cell_type": "code",
      "source": [
        "# Get all the ratings rows of our user\n",
        "dfUserRatings  = dfRates.filter(dfRates.userId == USER_ID).rdd.map(lambda r: r.accoId).collect()\n",
        "print(dfUserRatings)"
      ],
      "execution_count": 0,
      "outputs": [
        {
          "output_type": "stream",
          "text": [
            "['3', '6', '12', '16', '22', '28', '30', '33', '38']\n"
          ],
          "name": "stdout"
        }
      ]
    },
    {
      "metadata": {
        "id": "rknNCl52U8Fs",
        "colab_type": "code",
        "colab": {}
      },
      "cell_type": "code",
      "source": [
        "# Returns only the accommodations that have not been rated by our user\n",
        "rddPotential  = dfAccos.rdd.filter(lambda x: x[0] not in dfUserRatings)\n",
        "pairsPotential = rddPotential.map(lambda x: (USER_ID, x[0]))"
      ],
      "execution_count": 0,
      "outputs": []
    },
    {
      "metadata": {
        "id": "jqT4WW1zU8KC",
        "colab_type": "code",
        "colab": {}
      },
      "cell_type": "code",
      "source": [
        "#[START split_sets]\n",
        "rddTraining, rddValidating, rddTesting = dfRates.rdd.randomSplit([6,2,2])"
      ],
      "execution_count": 0,
      "outputs": []
    },
    {
      "metadata": {
        "id": "_V839eqSXwEX",
        "colab_type": "code",
        "colab": {}
      },
      "cell_type": "code",
      "source": [
        "from pyspark.mllib.recommendation import ALS, MatrixFactorizationModel, Rating"
      ],
      "execution_count": 0,
      "outputs": []
    },
    {
      "metadata": {
        "id": "f2PokDC9U8Nx",
        "colab_type": "code",
        "colab": {}
      },
      "cell_type": "code",
      "source": [
        "#[START predict]\n",
        "# Build our model with the best found values\n",
        "# Rating, Rank, Iteration, Regulation\n",
        "model = ALS.train(rddTraining, 10, 5, 0.1)\n"
      ],
      "execution_count": 0,
      "outputs": []
    },
    {
      "metadata": {
        "id": "yeeVhhCfU8Rb",
        "colab_type": "code",
        "colab": {}
      },
      "cell_type": "code",
      "source": [
        "# Calculate all predictions\n",
        "predictions = model.predictAll(pairsPotential).map(lambda p: (str(p[0]), str(p[1]), float(p[2])))"
      ],
      "execution_count": 0,
      "outputs": []
    },
    {
      "metadata": {
        "id": "6IeBZzenU8VC",
        "colab_type": "code",
        "outputId": "bcc20377-884c-47d3-fcf1-18778330dde6",
        "colab": {
          "base_uri": "https://localhost:8080/",
          "height": 54
        }
      },
      "cell_type": "code",
      "source": [
        "# Take the top 5 ones\n",
        "topPredictions = predictions.takeOrdered(5, key=lambda x: -x[2])\n",
        "print(topPredictions)"
      ],
      "execution_count": 0,
      "outputs": [
        {
          "output_type": "stream",
          "text": [
            "[('0', '49', 4.896520089114775), ('0', '76', 4.754601059938514), ('0', '66', 4.707847057758075), ('0', '75', 4.698511918681345), ('0', '72', 4.254802137130806)]\n"
          ],
          "name": "stdout"
        }
      ]
    },
    {
      "metadata": {
        "id": "oJh0EHWkU8Yc",
        "colab_type": "code",
        "colab": {}
      },
      "cell_type": "code",
      "source": [
        "schema = StructType([StructField(\"userId\", StringType(), True), StructField(\"accoId\", StringType(), True), StructField(\"prediction\", FloatType(), True)])"
      ],
      "execution_count": 0,
      "outputs": []
    },
    {
      "metadata": {
        "id": "LZZ7TlAXU8cL",
        "colab_type": "code",
        "colab": {}
      },
      "cell_type": "code",
      "source": [
        "dfToSave = sqlContext.createDataFrame(topPredictions, schema)"
      ],
      "execution_count": 0,
      "outputs": []
    },
    {
      "metadata": {
        "id": "pNBYw6srOmCM",
        "colab_type": "code",
        "outputId": "c3fac8f2-ea9e-4d6e-9a81-2ec3e39144b1",
        "colab": {
          "base_uri": "https://localhost:8080/",
          "height": 34
        }
      },
      "cell_type": "code",
      "source": [
        "dfToSave"
      ],
      "execution_count": 0,
      "outputs": [
        {
          "output_type": "execute_result",
          "data": {
            "text/plain": [
              "DataFrame[userId: string, accoId: string, prediction: float]"
            ]
          },
          "metadata": {
            "tags": []
          },
          "execution_count": 40
        }
      ]
    },
    {
      "metadata": {
        "id": "nAppQm9aOmF5",
        "colab_type": "code",
        "outputId": "0f94c953-64e4-47e4-e67a-8b608db43b83",
        "colab": {
          "base_uri": "https://localhost:8080/",
          "height": 187
        }
      },
      "cell_type": "code",
      "source": [
        "dfToSave.show()"
      ],
      "execution_count": 0,
      "outputs": [
        {
          "output_type": "stream",
          "text": [
            "+------+------+----------+\n",
            "|userId|accoId|prediction|\n",
            "+------+------+----------+\n",
            "|     0|    49|   4.89652|\n",
            "|     0|    76|  4.754601|\n",
            "|     0|    66|  4.707847|\n",
            "|     0|    75|  4.698512|\n",
            "|     0|    72|  4.254802|\n",
            "+------+------+----------+\n",
            "\n"
          ],
          "name": "stdout"
        }
      ]
    },
    {
      "metadata": {
        "id": "wbV6y90uOmJo",
        "colab_type": "code",
        "colab": {}
      },
      "cell_type": "code",
      "source": [
        ""
      ],
      "execution_count": 0,
      "outputs": []
    },
    {
      "metadata": {
        "id": "rKsVH8ARmvhG",
        "colab_type": "code",
        "colab": {
          "base_uri": "https://localhost:8080/",
          "height": 459
        },
        "outputId": "bfe88342-7cf0-43b5-8fb3-60cf67141441"
      },
      "cell_type": "code",
      "source": [
        "spark.sql(\"SELECT * FROM ratings WHERE userId==22\").show()"
      ],
      "execution_count": 77,
      "outputs": [
        {
          "output_type": "stream",
          "text": [
            "+------+------+------+\n",
            "|userId|accoId|rating|\n",
            "+------+------+------+\n",
            "|    22|     4|     3|\n",
            "|    22|     7|     3|\n",
            "|    22|     8|     2|\n",
            "|    22|    11|     1|\n",
            "|    22|    14|     3|\n",
            "|    22|    18|     3|\n",
            "|    22|    19|     1|\n",
            "|    22|    21|     2|\n",
            "|    22|    24|     3|\n",
            "|    22|    26|     2|\n",
            "|    22|    34|     2|\n",
            "|    22|    37|     2|\n",
            "|    22|    40|     3|\n",
            "|    22|    43|     1|\n",
            "|    22|    46|     3|\n",
            "|    22|    48|     4|\n",
            "|    22|    52|     2|\n",
            "|    22|    54|     1|\n",
            "|    22|    55|     3|\n",
            "|    22|    56|     3|\n",
            "+------+------+------+\n",
            "only showing top 20 rows\n",
            "\n"
          ],
          "name": "stdout"
        }
      ]
    },
    {
      "metadata": {
        "id": "Q51_43XhjHV9",
        "colab_type": "code",
        "outputId": "cf4db5e6-a046-4aae-d03d-d4038cf8dc13",
        "colab": {
          "base_uri": "https://localhost:8080/",
          "height": 54
        }
      },
      "cell_type": "code",
      "source": [
        "USER_ID = 22\n",
        "\n",
        "# Get all the ratings rows of our user\n",
        "dfUserRatings  = dfRates.filter(dfRates.userId == USER_ID).rdd.map(lambda r: r.accoId).collect()\n",
        "print(dfUserRatings)\n",
        "\n"
      ],
      "execution_count": 0,
      "outputs": [
        {
          "output_type": "stream",
          "text": [
            "['4', '7', '8', '11', '14', '18', '19', '21', '24', '26', '34', '37', '40', '43', '46', '48', '52', '54', '55', '56', '58', '65', '67', '68', '69', '73', '78', '81', '85', '87', '88', '91', '94', '95', '98']\n"
          ],
          "name": "stdout"
        }
      ]
    },
    {
      "metadata": {
        "id": "Ev74Wdx-khnV",
        "colab_type": "code",
        "colab": {}
      },
      "cell_type": "code",
      "source": [
        "# Returns only the accommodations that have not been rated by our user\n",
        "rddPotential  = dfAccos.rdd.filter(lambda x: x[0] not in dfUserRatings)\n",
        "\n",
        "\n"
      ],
      "execution_count": 0,
      "outputs": []
    },
    {
      "metadata": {
        "id": "_xv5t_a_k1af",
        "colab_type": "code",
        "outputId": "a871a551-ffd4-4555-ebfd-b45d04d04ab5",
        "colab": {
          "base_uri": "https://localhost:8080/",
          "height": 34
        }
      },
      "cell_type": "code",
      "source": [
        "rddPotential"
      ],
      "execution_count": 79,
      "outputs": [
        {
          "output_type": "execute_result",
          "data": {
            "text/plain": [
              "PythonRDD[766] at RDD at PythonRDD.scala:53"
            ]
          },
          "metadata": {
            "tags": []
          },
          "execution_count": 79
        }
      ]
    },
    {
      "metadata": {
        "id": "uR68JLuBk1-T",
        "colab_type": "code",
        "colab": {}
      },
      "cell_type": "code",
      "source": [
        "pairsPotential = rddPotential.map(lambda x: (USER_ID, x[0]))"
      ],
      "execution_count": 0,
      "outputs": []
    },
    {
      "metadata": {
        "id": "q4kPo3RAki0L",
        "colab_type": "code",
        "colab": {}
      },
      "cell_type": "code",
      "source": [
        "#[START split_sets]\n",
        "rddTraining, rddValidating, rddTesting = dfRates.rdd.randomSplit([6,2,2])"
      ],
      "execution_count": 0,
      "outputs": []
    },
    {
      "metadata": {
        "id": "FSAFGFAZjHZF",
        "colab_type": "code",
        "colab": {}
      },
      "cell_type": "code",
      "source": [
        "from pyspark.mllib.recommendation import ALS, MatrixFactorizationModel, Rating"
      ],
      "execution_count": 0,
      "outputs": []
    },
    {
      "metadata": {
        "id": "4uT__SwNkELj",
        "colab_type": "code",
        "colab": {}
      },
      "cell_type": "code",
      "source": [
        "#[START predict]\n",
        "# Build our model with the best found values\n",
        "# Rating, Rank, Iteration, Regulation\n",
        "model = ALS.train(rddTraining, 10, 5, 0.1)"
      ],
      "execution_count": 0,
      "outputs": []
    },
    {
      "metadata": {
        "id": "qi069R1hkEWj",
        "colab_type": "code",
        "colab": {}
      },
      "cell_type": "code",
      "source": [
        "# Calculate all predictions\n",
        "predictions = model.predictAll(pairsPotential).map(lambda p: (str(p[0]), str(p[1]), float(p[2])))"
      ],
      "execution_count": 0,
      "outputs": []
    },
    {
      "metadata": {
        "id": "n6YM7UyikEdW",
        "colab_type": "code",
        "outputId": "669e23f6-d770-431f-edfd-3044cd2e329d",
        "colab": {
          "base_uri": "https://localhost:8080/",
          "height": 54
        }
      },
      "cell_type": "code",
      "source": [
        "# Take the top 5 ones\n",
        "topPredictions = predictions.takeOrdered(5, key=lambda x: -x[2])\n",
        "print(topPredictions)"
      ],
      "execution_count": 85,
      "outputs": [
        {
          "output_type": "stream",
          "text": [
            "[('22', '59', 4.301565494196462), ('22', '99', 4.009579216783245), ('22', '44', 3.904668072091046), ('22', '38', 3.8908555766838733), ('22', '72', 3.7541565994779083)]\n"
          ],
          "name": "stdout"
        }
      ]
    },
    {
      "metadata": {
        "id": "HL3XeA-5kEj0",
        "colab_type": "code",
        "colab": {}
      },
      "cell_type": "code",
      "source": [
        "schema = StructType([StructField(\"userId\", StringType(), True), StructField(\"accoId\", StringType(), True), StructField(\"prediction\", FloatType(), True)])"
      ],
      "execution_count": 0,
      "outputs": []
    },
    {
      "metadata": {
        "id": "5vO2LJemkbyg",
        "colab_type": "code",
        "outputId": "ffd59933-22fd-422f-8417-3b3a8a8320ec",
        "colab": {
          "base_uri": "https://localhost:8080/",
          "height": 187
        }
      },
      "cell_type": "code",
      "source": [
        "dfToSave = sqlContext.createDataFrame(topPredictions, schema)\n",
        "dfToSave.show()"
      ],
      "execution_count": 0,
      "outputs": [
        {
          "output_type": "stream",
          "text": [
            "+------+------+----------+\n",
            "|userId|accoId|prediction|\n",
            "+------+------+----------+\n",
            "|    22|    90|  4.733117|\n",
            "|    22|    76|  4.542928|\n",
            "|    22|     6|   4.49832|\n",
            "|    22|    33| 4.4753304|\n",
            "|    22|    66|  4.411006|\n",
            "+------+------+----------+\n",
            "\n"
          ],
          "name": "stdout"
        }
      ]
    },
    {
      "metadata": {
        "id": "elzM_AlUkb9x",
        "colab_type": "code",
        "colab": {}
      },
      "cell_type": "code",
      "source": [
        ""
      ],
      "execution_count": 0,
      "outputs": []
    }
  ]
}