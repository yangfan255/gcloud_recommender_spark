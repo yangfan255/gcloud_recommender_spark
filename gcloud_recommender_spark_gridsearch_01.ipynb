{
  "nbformat": 4,
  "nbformat_minor": 0,
  "metadata": {
    "colab": {
      "name": "p3sparkinstall.ipynb",
      "version": "0.3.2",
      "provenance": [],
      "collapsed_sections": []
    },
    "kernelspec": {
      "name": "python3",
      "display_name": "Python 3"
    },
    "accelerator": "TPU"
  },
  "cells": [
    {
      "metadata": {
        "id": "yzK0rqYgolGP",
        "colab_type": "text"
      },
      "cell_type": "markdown",
      "source": [
        "## **install pyspark on google colab with TPU**"
      ]
    },
    {
      "metadata": {
        "id": "Q6GQgDBtFrB7",
        "colab_type": "code",
        "outputId": "fd5cc712-82f3-42c1-cb59-5a3e37a30281",
        "colab": {
          "base_uri": "https://localhost:8080/",
          "height": 343
        }
      },
      "cell_type": "code",
      "source": [
        "!apt-get -y install openjdk-8-jre-headless\n",
        "!pip install pyspark\n",
        "from pyspark.sql import SparkSession\n",
        "from pyspark import SparkContext\n",
        "spark = SparkSession.builder.master(\"local\").getOrCreate()\n",
        "sc = SparkContext.getOrCreate()"
      ],
      "execution_count": 0,
      "outputs": [
        {
          "output_type": "stream",
          "text": [
            "Reading package lists... Done\n",
            "Building dependency tree       \n",
            "Reading state information... Done\n",
            "openjdk-8-jre-headless is already the newest version (8u191-b12-0ubuntu0.18.04.1).\n",
            "openjdk-8-jre-headless set to manually installed.\n",
            "0 upgraded, 0 newly installed, 0 to remove and 13 not upgraded.\n",
            "Collecting pyspark\n",
            "\u001b[?25l  Downloading https://files.pythonhosted.org/packages/88/01/a37e827c2d80c6a754e40e99b9826d978b55254cc6c6672b5b08f2e18a7f/pyspark-2.4.0.tar.gz (213.4MB)\n",
            "\u001b[K    100% |████████████████████████████████| 213.4MB 51kB/s \n",
            "\u001b[?25hCollecting py4j==0.10.7 (from pyspark)\n",
            "\u001b[?25l  Downloading https://files.pythonhosted.org/packages/e3/53/c737818eb9a7dc32a7cd4f1396e787bd94200c3997c72c1dbe028587bd76/py4j-0.10.7-py2.py3-none-any.whl (197kB)\n",
            "\u001b[K    100% |████████████████████████████████| 204kB 30.4MB/s \n",
            "\u001b[?25hBuilding wheels for collected packages: pyspark\n",
            "  Running setup.py bdist_wheel for pyspark ... \u001b[?25l-\b \b\\\b \b|\b \b/\b \b-\b \b\\\b \b|\b \b/\b \b-\b \b\\\b \b|\b \b/\b \b-\b \b\\\b \b|\b \b/\b \b-\b \b\\\b \b|\b \b/\b \b-\b \b\\\b \b|\b \b/\b \b-\b \b\\\b \b|\b \b/\b \b-\b \b\\\b \b|\b \b/\b \b-\b \b\\\b \b|\b \b/\b \b-\b \b\\\b \b|\b \b/\b \b-\b \b\\\b \b|\b \b/\b \b-\b \b\\\b \b|\b \b/\b \b-\b \b\\\b \b|\b \b/\b \b-\b \b\\\b \b|\b \b/\b \b-\b \b\\\b \b|\b \b/\b \b-\b \b\\\b \bdone\n",
            "\u001b[?25h  Stored in directory: /root/.cache/pip/wheels/cd/54/c2/abfcc942eddeaa7101228ebd6127a30dbdf903c72db4235b23\n",
            "Successfully built pyspark\n",
            "Installing collected packages: py4j, pyspark\n",
            "Successfully installed py4j-0.10.7 pyspark-2.4.0\n"
          ],
          "name": "stdout"
        }
      ]
    },
    {
      "metadata": {
        "id": "jLJO-AzQoa7u",
        "colab_type": "text"
      },
      "cell_type": "markdown",
      "source": [
        "I plan to build recommendation system on google gcloud. I want to make sure all codes are good before gcloud. Thus, I set up spark in google colab with TPU.\n",
        "\n",
        "The data and codes are originally from: https://github.com/GoogleCloudPlatform/spark-recommendation-engine\n",
        "\n",
        "**Part 1**: **grid search for best parameters in recommender model**"
      ]
    },
    {
      "metadata": {
        "id": "bHCERBMCF5he",
        "colab_type": "code",
        "outputId": "f71c74a7-b7a0-4de6-8c07-41652775659c",
        "colab": {
          "base_uri": "https://localhost:8080/",
          "height": 34
        }
      },
      "cell_type": "code",
      "source": [
        "rdd = sc.parallelize([\"Hello Spark\"])\n",
        "counts = rdd.flatMap(lambda line: line.split(\" \")) \\\n",
        "    .map(lambda word: (word, 1)) \\\n",
        "    .reduceByKey(lambda a, b: a + b) \\\n",
        "    .collect()\n",
        "print(counts)"
      ],
      "execution_count": 0,
      "outputs": [
        {
          "output_type": "stream",
          "text": [
            "[('Hello', 1), ('Spark', 1)]\n"
          ],
          "name": "stdout"
        }
      ]
    },
    {
      "metadata": {
        "id": "PKyaz_ptKXqf",
        "colab_type": "code",
        "colab": {}
      },
      "cell_type": "code",
      "source": [
        ""
      ],
      "execution_count": 0,
      "outputs": []
    },
    {
      "metadata": {
        "id": "qVnwqPrjKXtk",
        "colab_type": "code",
        "colab": {}
      },
      "cell_type": "code",
      "source": [
        "import os\n",
        "import warnings\n",
        "warnings.filterwarnings('ignore')\n",
        "import pandas as pd\n",
        "\n",
        "import pyspark.sql.functions as F\n",
        "from pyspark.ml import Pipeline\n",
        "from pyspark.ml.feature import Bucketizer, MinMaxScaler, VectorAssembler\n",
        "from pyspark.sql.types import DoubleType\n",
        "from pyspark.ml.evaluation import RegressionEvaluator\n",
        "from pyspark.ml.recommendation import ALS\n",
        "from pyspark.ml import Transformer\n",
        "from pyspark.sql import Window"
      ],
      "execution_count": 0,
      "outputs": []
    },
    {
      "metadata": {
        "id": "0op-2e7hKX1W",
        "colab_type": "code",
        "colab": {}
      },
      "cell_type": "code",
      "source": [
        ""
      ],
      "execution_count": 0,
      "outputs": []
    },
    {
      "metadata": {
        "id": "6l95C996KX4X",
        "colab_type": "code",
        "colab": {}
      },
      "cell_type": "code",
      "source": [
        ""
      ],
      "execution_count": 0,
      "outputs": []
    },
    {
      "metadata": {
        "id": "u4-3FYhTJW8Z",
        "colab_type": "code",
        "outputId": "630a06f4-87a9-4629-fd02-2e820323817a",
        "colab": {
          "resources": {
            "http://localhost:8080/nbextensions/google.colab/files.js": {
              "data": "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",
              "ok": true,
              "headers": [
                [
                  "content-type",
                  "application/javascript"
                ]
              ],
              "status": 200,
              "status_text": ""
            }
          },
          "base_uri": "https://localhost:8080/",
          "height": 106
        }
      },
      "cell_type": "code",
      "source": [
        "from google.colab import files\n",
        "files.upload()"
      ],
      "execution_count": 0,
      "outputs": [
        {
          "output_type": "display_data",
          "data": {
            "text/html": [
              "\n",
              "     <input type=\"file\" id=\"files-811c07db-ee2c-416f-9bf3-25ca09a4b9c8\" name=\"files[]\" multiple disabled />\n",
              "     <output id=\"result-811c07db-ee2c-416f-9bf3-25ca09a4b9c8\">\n",
              "      Upload widget is only available when the cell has been executed in the\n",
              "      current browser session. Please rerun this cell to enable.\n",
              "      </output>\n",
              "      <script src=\"/nbextensions/google.colab/files.js\"></script> "
            ],
            "text/plain": [
              "<IPython.core.display.HTML object>"
            ]
          },
          "metadata": {
            "tags": []
          }
        },
        {
          "output_type": "stream",
          "text": [
            "Saving ratings.csv to ratings.csv\n"
          ],
          "name": "stdout"
        },
        {
          "output_type": "execute_result",
          "data": {
            "text/plain": [
              "{'ratings.csv': b'10,1,1\\n18,1,2\\n13,1,1\\n7,2,2\\n4,2,2\\n13,2,3\\n19,2,2\\n12,2,1\\n11,2,1\\n1,2,2\\n20,2,2\\n2,2,4\\n3,2,1\\n0,3,4\\n4,3,5\\n8,3,4\\n7,3,4\\n10,3,5\\n16,3,5\\n21,3,5\\n23,3,5\\n21,4,2\\n4,4,1\\n7,4,2\\n23,4,1\\n24,4,2\\n6,4,1\\n3,4,1\\n13,4,1\\n2,4,1\\n5,4,3\\n18,4,4\\n15,4,4\\n22,4,3\\n1,4,4\\n17,4,3\\n20,4,1\\n19,4,3\\n9,4,1\\n14,4,1\\n12,4,3\\n11,4,4\\n16,5,1\\n10,5,1\\n23,5,2\\n21,5,2\\n4,5,1\\n11,5,3\\n6,5,1\\n12,5,4\\n15,5,1\\n13,5,4\\n17,5,4\\n5,5,3\\n2,5,1\\n3,5,1\\n9,5,4\\n1,5,3\\n20,5,3\\n19,5,3\\n14,5,1\\n24,5,2\\n18,5,2\\n0,6,5\\n4,6,5\\n8,6,5\\n7,6,5\\n10,6,5\\n16,6,5\\n21,6,4\\n23,6,5\\n16,7,1\\n19,7,2\\n14,7,1\\n1,7,1\\n22,7,3\\n17,7,2\\n12,7,1\\n9,7,3\\n6,7,3\\n24,7,4\\n5,7,4\\n15,7,3\\n13,7,4\\n3,7,2\\n2,7,1\\n20,7,4\\n11,7,4\\n18,7,3\\n21,8,1\\n16,8,1\\n7,8,2\\n10,8,2\\n8,8,1\\n23,8,1\\n22,8,2\\n6,8,2\\n18,8,4\\n13,8,4\\n12,8,3\\n5,8,2\\n1,8,3\\n15,8,1\\n3,8,2\\n17,8,4\\n2,8,4\\n14,8,3\\n20,8,3\\n24,8,1\\n19,8,2\\n11,8,2\\n9,8,1\\n10,9,1\\n7,9,1\\n21,9,2\\n4,9,2\\n8,9,2\\n16,9,1\\n23,9,1\\n15,9,2\\n21,10,2\\n4,10,1\\n12,10,3\\n18,10,1\\n21,11,1\\n23,11,1\\n7,11,1\\n16,11,2\\n10,11,1\\n4,11,2\\n15,11,1\\n17,11,4\\n24,11,4\\n6,11,3\\n14,11,3\\n11,11,1\\n13,11,3\\n1,11,1\\n12,11,2\\n3,11,3\\n19,11,2\\n20,11,1\\n22,11,1\\n5,11,1\\n0,12,5\\n4,12,5\\n8,12,4\\n7,12,5\\n10,12,5\\n16,12,4\\n21,12,4\\n23,12,4\\n16,13,2\\n3,13,2\\n9,13,1\\n17,13,1\\n18,13,1\\n2,13,3\\n20,13,3\\n19,13,2\\n6,13,4\\n11,13,2\\n14,13,1\\n5,13,1\\n4,14,2\\n8,14,1\\n5,14,4\\n3,14,1\\n1,14,2\\n22,14,3\\n9,14,1\\n11,14,4\\n15,14,1\\n20,14,2\\n14,14,2\\n13,14,2\\n17,14,1\\n16,15,1\\n23,15,2\\n4,15,1\\n8,15,2\\n10,15,1\\n21,15,2\\n7,15,1\\n2,15,1\\n11,15,1\\n3,15,3\\n20,15,1\\n19,15,4\\n0,16,4\\n4,16,4\\n8,16,4\\n7,16,5\\n10,16,4\\n16,16,5\\n21,16,5\\n23,16,4\\n10,17,1\\n4,17,2\\n21,17,1\\n16,17,2\\n23,17,2\\n7,17,1\\n8,17,2\\n12,17,1\\n19,17,4\\n7,18,1\\n10,18,1\\n8,18,2\\n11,18,3\\n15,18,3\\n18,18,2\\n24,18,1\\n6,18,3\\n20,18,2\\n5,18,4\\n19,18,2\\n9,18,2\\n13,18,4\\n14,18,4\\n2,18,4\\n22,18,3\\n17,18,4\\n10,19,2\\n8,19,1\\n4,19,1\\n23,19,1\\n21,19,2\\n14,19,3\\n20,19,3\\n12,19,3\\n19,19,1\\n15,19,1\\n18,19,1\\n1,19,1\\n6,19,1\\n22,19,1\\n16,20,1\\n8,20,2\\n10,20,1\\n23,20,1\\n4,20,1\\n20,20,2\\n19,20,3\\n2,20,2\\n18,20,4\\n16,21,1\\n4,21,1\\n23,21,1\\n8,21,1\\n22,21,2\\n19,21,3\\n13,21,2\\n24,21,2\\n2,21,1\\n9,21,1\\n20,21,4\\n0,22,4\\n4,22,4\\n8,22,5\\n7,22,4\\n10,22,4\\n16,22,5\\n21,22,4\\n23,22,4\\n4,23,1\\n21,23,1\\n23,23,1\\n7,23,1\\n10,23,1\\n19,23,2\\n6,23,3\\n1,23,2\\n2,23,4\\n20,23,3\\n10,24,1\\n23,24,2\\n4,24,2\\n21,24,1\\n16,24,1\\n7,24,2\\n14,24,4\\n1,24,4\\n15,24,3\\n2,24,4\\n9,24,4\\n11,24,2\\n24,24,1\\n18,24,1\\n3,24,1\\n6,24,4\\n5,24,4\\n17,24,4\\n13,24,4\\n22,24,3\\n19,24,1\\n12,24,1\\n20,24,4\\n10,25,1\\n16,25,1\\n21,25,1\\n8,25,2\\n4,25,1\\n7,25,2\\n23,25,1\\n18,25,4\\n13,25,3\\n5,25,4\\n19,25,4\\n9,25,4\\n1,25,3\\n4,26,2\\n21,26,1\\n16,26,2\\n7,26,2\\n10,26,2\\n23,26,1\\n13,26,4\\n22,26,2\\n3,26,2\\n18,26,3\\n14,26,1\\n5,26,4\\n17,26,1\\n9,26,2\\n20,26,4\\n4,27,2\\n23,27,1\\n10,27,1\\n16,27,1\\n7,27,2\\n24,27,3\\n2,27,3\\n19,27,1\\n18,27,2\\n13,27,1\\n5,27,3\\n15,27,1\\n3,27,3\\n11,27,1\\n9,27,1\\n1,27,1\\n0,28,4\\n4,28,4\\n8,28,4\\n7,28,5\\n10,28,4\\n16,28,4\\n21,28,4\\n23,28,4\\n7,29,1\\n2,29,2\\n17,29,2\\n11,29,1\\n15,29,3\\n19,29,2\\n0,30,5\\n4,30,5\\n8,30,5\\n7,30,4\\n10,30,5\\n16,30,5\\n21,30,5\\n23,30,5\\n16,31,1\\n7,31,1\\n4,31,2\\n21,31,2\\n8,31,2\\n23,31,1\\n19,31,3\\n13,31,3\\n4,32,2\\n7,32,1\\n16,32,1\\n23,32,1\\n8,32,2\\n9,32,2\\n15,32,1\\n24,32,4\\n19,32,1\\n11,32,1\\n12,32,3\\n0,33,4\\n4,33,5\\n8,33,4\\n7,33,5\\n10,33,5\\n16,33,4\\n21,33,4\\n23,33,4\\n8,34,1\\n23,34,2\\n4,34,2\\n21,34,2\\n10,34,2\\n16,34,1\\n20,34,3\\n19,34,3\\n6,34,4\\n22,34,2\\n13,34,3\\n5,34,1\\n15,34,2\\n2,34,4\\n9,34,2\\n12,34,2\\n17,34,4\\n14,34,4\\n24,34,2\\n1,34,2\\n11,34,2\\n18,34,4\\n3,34,2\\n4,35,1\\n7,35,2\\n21,35,2\\n3,35,2\\n12,35,1\\n16,36,1\\n1,36,2\\n9,36,3\\n24,36,3\\n10,37,2\\n2,37,2\\n17,37,2\\n1,37,3\\n3,37,2\\n14,37,2\\n20,37,2\\n13,37,4\\n5,37,3\\n22,37,2\\n11,37,4\\n19,37,2\\n15,37,1\\n6,37,2\\n9,37,1\\n24,37,2\\n18,37,1\\n12,37,3\\n0,38,4\\n4,38,4\\n8,38,5\\n7,38,5\\n10,38,4\\n16,38,4\\n21,38,5\\n23,38,5\\n4,39,4\\n8,39,5\\n7,39,5\\n10,39,5\\n16,39,4\\n21,39,4\\n23,39,4\\n7,40,1\\n22,40,3\\n6,40,2\\n11,40,3\\n5,40,1\\n1,40,1\\n2,40,3\\n24,40,3\\n20,40,2\\n19,40,1\\n3,40,1\\n15,40,2\\n13,40,3\\n9,40,4\\n17,40,4\\n12,40,4\\n18,40,1\\n14,40,4\\n16,41,1\\n8,41,2\\n4,41,2\\n3,41,2\\n11,41,1\\n14,41,2\\n13,41,3\\n4,42,1\\n24,42,2\\n2,42,4\\n1,42,2\\n14,42,1\\n17,42,1\\n16,43,2\\n8,43,1\\n4,43,1\\n23,43,1\\n21,43,2\\n7,43,2\\n19,43,4\\n22,43,1\\n24,43,2\\n18,43,3\\n12,43,4\\n11,43,4\\n10,44,2\\n16,44,1\\n23,44,2\\n15,44,2\\n19,44,4\\n6,44,4\\n3,44,4\\n17,44,3\\n13,44,1\\n2,44,1\\n5,44,4\\n1,44,2\\n4,45,2\\n7,45,1\\n17,45,4\\n5,45,4\\n12,45,2\\n1,45,3\\n11,45,4\\n3,45,4\\n18,45,3\\n2,45,1\\n23,46,2\\n7,46,1\\n16,46,1\\n3,46,2\\n13,46,2\\n9,46,4\\n5,46,2\\n2,46,4\\n22,46,3\\n14,46,3\\n21,47,2\\n7,47,2\\n17,47,4\\n14,47,1\\n13,47,3\\n24,47,2\\n12,47,2\\n6,47,3\\n15,47,4\\n11,47,1\\n5,47,4\\n16,48,1\\n23,48,2\\n8,48,2\\n2,48,1\\n24,48,2\\n15,48,4\\n18,48,1\\n6,48,3\\n17,48,4\\n12,48,2\\n19,48,4\\n1,48,3\\n11,48,4\\n14,48,1\\n22,48,4\\n20,48,2\\n5,48,3\\n3,48,3\\n9,48,4\\n13,48,1\\n4,49,5\\n8,49,5\\n7,49,5\\n10,49,4\\n16,49,4\\n21,49,5\\n23,49,5\\n4,50,2\\n23,50,1\\n8,50,2\\n16,50,2\\n21,50,1\\n2,50,4\\n9,50,4\\n23,51,1\\n21,51,1\\n16,51,2\\n8,51,2\\n19,51,4\\n1,51,1\\n15,51,4\\n2,51,1\\n18,51,2\\n20,51,3\\n5,51,1\\n24,51,2\\n4,52,1\\n7,52,2\\n10,52,2\\n8,52,1\\n23,52,2\\n16,52,1\\n5,52,2\\n13,52,2\\n1,52,1\\n6,52,4\\n19,52,1\\n20,52,4\\n18,52,2\\n22,52,2\\n12,52,1\\n24,52,2\\n17,52,2\\n14,52,2\\n15,52,1\\n3,52,1\\n9,52,1\\n2,52,3\\n7,53,1\\n4,53,1\\n8,53,1\\n16,53,2\\n23,53,2\\n21,53,1\\n11,53,4\\n3,53,4\\n5,53,2\\n1,53,4\\n15,53,4\\n13,53,4\\n18,53,2\\n9,53,4\\n14,53,1\\n20,53,1\\n12,53,3\\n6,53,2\\n17,53,3\\n19,53,2\\n2,53,2\\n16,54,2\\n15,54,3\\n1,54,4\\n17,54,2\\n2,54,4\\n11,54,4\\n19,54,1\\n5,54,4\\n24,54,2\\n12,54,4\\n22,54,1\\n16,55,2\\n23,55,1\\n10,55,1\\n4,55,2\\n7,55,1\\n8,55,2\\n21,55,2\\n19,55,3\\n18,55,4\\n22,55,3\\n5,55,3\\n12,55,2\\n13,55,3\\n17,55,1\\n11,55,3\\n2,55,2\\n6,55,1\\n1,55,2\\n3,55,3\\n7,56,2\\n20,56,2\\n24,56,1\\n2,56,1\\n18,56,2\\n13,56,1\\n9,56,2\\n22,56,3\\n19,56,1\\n5,56,3\\n1,56,4\\n17,56,3\\n4,57,2\\n10,57,1\\n7,57,2\\n21,57,2\\n8,57,2\\n16,57,1\\n23,57,1\\n6,57,3\\n12,57,3\\n15,57,2\\n9,57,3\\n14,57,4\\n8,58,2\\n16,58,2\\n10,58,2\\n21,58,2\\n23,58,2\\n4,58,1\\n24,58,3\\n11,58,3\\n14,58,1\\n3,58,3\\n12,58,4\\n19,58,2\\n22,58,3\\n6,58,4\\n20,58,2\\n17,58,1\\n15,58,1\\n2,58,4\\n18,58,2\\n5,58,1\\n1,58,4\\n13,58,2\\n4,59,4\\n8,59,5\\n7,59,4\\n10,59,4\\n16,59,4\\n21,59,5\\n23,59,5\\n8,60,2\\n7,60,1\\n20,60,2\\n5,60,4\\n6,60,1\\n3,60,2\\n9,60,3\\n1,60,1\\n4,61,4\\n8,61,4\\n7,61,5\\n10,61,5\\n16,61,5\\n21,61,5\\n23,61,4\\n16,62,1\\n23,62,2\\n19,62,2\\n20,62,1\\n2,62,4\\n1,62,1\\n15,62,2\\n24,62,1\\n23,63,2\\n7,63,1\\n16,63,2\\n10,63,2\\n2,63,3\\n4,64,2\\n7,64,1\\n8,64,2\\n23,64,2\\n21,64,2\\n16,64,2\\n11,64,4\\n6,64,3\\n15,64,3\\n9,64,2\\n20,64,4\\n10,65,2\\n7,65,2\\n8,65,2\\n16,65,1\\n17,65,1\\n13,65,1\\n14,65,4\\n22,65,1\\n4,66,4\\n8,66,5\\n7,66,5\\n10,66,5\\n16,66,5\\n21,66,5\\n23,66,5\\n16,67,1\\n10,67,1\\n23,67,2\\n4,67,2\\n21,67,1\\n7,67,1\\n5,67,4\\n15,67,4\\n22,67,4\\n11,67,2\\n17,67,1\\n19,67,2\\n1,67,1\\n6,67,1\\n12,67,4\\n23,68,1\\n16,68,2\\n7,68,1\\n10,68,2\\n21,68,1\\n8,68,2\\n4,68,1\\n1,68,1\\n22,68,3\\n19,68,4\\n6,68,3\\n5,68,4\\n11,68,2\\n9,68,4\\n2,68,4\\n3,68,4\\n14,68,1\\n15,68,1\\n18,68,4\\n13,68,4\\n17,68,3\\n24,68,2\\n12,68,1\\n10,69,2\\n7,69,2\\n8,69,2\\n16,69,2\\n6,69,1\\n3,69,3\\n12,69,2\\n24,69,2\\n19,69,1\\n5,69,2\\n14,69,1\\n2,69,2\\n11,69,3\\n20,69,1\\n18,69,1\\n13,69,3\\n22,69,2\\n9,69,4\\n16,70,2\\n20,70,2\\n24,70,2\\n12,70,3\\n11,70,3\\n13,70,3\\n7,71,2\\n4,71,2\\n16,71,2\\n8,71,2\\n10,71,1\\n21,71,2\\n6,71,1\\n15,71,2\\n13,71,2\\n24,71,2\\n18,71,2\\n9,71,4\\n1,71,1\\n17,71,2\\n4,72,4\\n8,72,4\\n7,72,4\\n10,72,4\\n16,72,4\\n21,72,5\\n23,72,5\\n7,73,1\\n16,73,1\\n10,73,1\\n3,73,4\\n12,73,4\\n2,73,4\\n1,73,4\\n6,73,3\\n5,73,4\\n11,73,4\\n22,73,3\\n24,73,4\\n18,73,1\\n20,73,4\\n17,73,1\\n16,74,2\\n23,74,1\\n21,74,2\\n7,74,2\\n18,74,3\\n14,74,2\\n12,74,2\\n13,74,2\\n3,74,1\\n4,75,5\\n8,75,5\\n7,75,4\\n10,75,4\\n16,75,5\\n21,75,4\\n23,75,5\\n4,76,5\\n8,76,4\\n7,76,5\\n10,76,5\\n16,76,5\\n21,76,5\\n23,76,5\\n4,77,1\\n18,77,3\\n20,77,3\\n11,77,3\\n2,77,4\\n5,77,3\\n13,77,3\\n6,77,1\\n19,77,3\\n12,77,4\\n17,77,2\\n1,77,2\\n24,77,1\\n4,78,1\\n10,78,2\\n23,78,1\\n8,78,2\\n16,78,2\\n21,78,2\\n14,78,2\\n13,78,1\\n20,78,1\\n6,78,1\\n17,78,2\\n24,78,3\\n12,78,3\\n22,78,3\\n3,78,2\\n4,79,2\\n16,79,1\\n21,79,1\\n23,79,2\\n6,79,4\\n17,79,2\\n7,80,1\\n8,80,2\\n10,80,2\\n6,80,1\\n3,80,2\\n5,80,3\\n9,80,4\\n1,80,1\\n24,80,4\\n15,80,1\\n12,80,1\\n13,80,3\\n11,80,4\\n10,81,2\\n14,81,1\\n17,81,4\\n12,81,1\\n19,81,1\\n24,81,4\\n1,81,1\\n18,81,2\\n6,81,1\\n22,81,4\\n15,81,1\\n20,81,1\\n13,81,4\\n9,81,4\\n3,81,1\\n5,81,3\\n2,81,4\\n7,82,2\\n4,82,2\\n10,82,2\\n8,82,1\\n21,82,2\\n16,82,1\\n13,82,2\\n14,82,2\\n19,82,4\\n17,82,1\\n5,82,2\\n18,82,4\\n6,82,2\\n12,82,2\\n1,82,1\\n2,82,3\\n11,82,2\\n20,82,2\\n15,82,2\\n3,82,4\\n9,82,3\\n16,83,2\\n4,83,2\\n21,83,1\\n23,83,2\\n10,83,1\\n7,83,1\\n14,83,2\\n20,83,4\\n18,83,1\\n6,83,2\\n13,83,2\\n4,84,1\\n16,84,2\\n3,84,4\\n24,84,1\\n19,84,3\\n14,84,4\\n11,84,2\\n12,84,1\\n21,85,1\\n4,85,1\\n10,85,1\\n11,85,4\\n9,85,1\\n6,85,3\\n12,85,3\\n3,85,4\\n18,85,3\\n19,85,3\\n17,85,4\\n22,85,4\\n4,86,5\\n8,86,4\\n7,86,4\\n10,86,5\\n16,86,4\\n21,86,5\\n23,86,4\\n7,87,1\\n21,87,1\\n10,87,1\\n4,87,2\\n13,87,4\\n22,87,3\\n3,87,2\\n18,87,4\\n12,87,3\\n14,87,4\\n6,87,3\\n1,87,3\\n20,87,2\\n9,87,4\\n10,88,2\\n23,88,1\\n16,88,1\\n8,88,1\\n4,88,2\\n15,88,3\\n17,88,3\\n9,88,4\\n13,88,2\\n18,88,4\\n2,88,2\\n6,88,1\\n12,88,4\\n20,88,4\\n22,88,4\\n5,88,4\\n24,88,1\\n14,88,4\\n1,88,3\\n19,88,1\\n3,88,3\\n16,89,1\\n10,89,1\\n23,89,2\\n21,89,1\\n4,89,1\\n7,89,1\\n13,89,1\\n1,89,3\\n9,89,3\\n12,89,3\\n4,90,4\\n8,90,5\\n7,90,5\\n10,90,4\\n16,90,4\\n21,90,4\\n23,90,4\\n10,91,2\\n4,91,1\\n7,91,1\\n23,91,1\\n8,91,2\\n21,91,1\\n16,91,1\\n3,91,3\\n12,91,3\\n5,91,1\\n14,91,2\\n9,91,2\\n1,91,1\\n24,91,1\\n17,91,1\\n19,91,4\\n13,91,1\\n22,91,2\\n20,91,1\\n21,92,1\\n16,92,1\\n7,92,2\\n10,92,1\\n20,92,4\\n11,92,4\\n13,92,3\\n17,92,3\\n1,92,2\\n6,92,3\\n21,93,1\\n16,93,2\\n7,93,1\\n4,93,2\\n23,93,1\\n10,93,1\\n8,93,1\\n3,93,3\\n23,94,1\\n21,94,2\\n4,94,2\\n10,94,2\\n8,94,2\\n7,94,1\\n3,94,3\\n2,94,1\\n19,94,3\\n9,94,2\\n17,94,1\\n13,94,1\\n15,94,1\\n12,94,2\\n6,94,2\\n22,94,4\\n20,94,2\\n24,94,4\\n14,94,2\\n1,94,2\\n11,94,4\\n18,94,1\\n16,95,1\\n10,95,1\\n23,95,2\\n21,95,1\\n4,95,1\\n7,95,1\\n8,95,1\\n12,95,3\\n3,95,2\\n6,95,1\\n2,95,2\\n24,95,3\\n20,95,1\\n11,95,3\\n19,95,4\\n9,95,3\\n1,95,4\\n22,95,4\\n13,95,1\\n18,95,4\\n14,95,2\\n5,95,2\\n10,96,2\\n16,96,1\\n12,96,4\\n23,97,1\\n7,97,1\\n10,97,1\\n21,97,2\\n15,97,2\\n2,97,3\\n20,97,4\\n17,97,4\\n19,97,3\\n1,97,3\\n18,97,3\\n4,98,2\\n21,98,1\\n8,98,1\\n10,98,2\\n7,98,2\\n16,98,1\\n23,98,2\\n12,98,3\\n24,98,2\\n15,98,1\\n13,98,4\\n18,98,4\\n11,98,1\\n19,98,1\\n20,98,1\\n2,98,2\\n17,98,2\\n6,98,3\\n1,98,3\\n22,98,3\\n4,99,4\\n8,99,5\\n7,99,5\\n10,99,4\\n16,99,5\\n21,99,5\\n23,99,5\\n'}"
            ]
          },
          "metadata": {
            "tags": []
          },
          "execution_count": 17
        }
      ]
    },
    {
      "metadata": {
        "id": "3wAJ2uOfJW_T",
        "colab_type": "code",
        "colab": {}
      },
      "cell_type": "code",
      "source": [
        "df_accommodations = spark.read.csv('accommodations.csv')\n"
      ],
      "execution_count": 0,
      "outputs": []
    },
    {
      "metadata": {
        "id": "wFoecWFRJXCR",
        "colab_type": "code",
        "colab": {}
      },
      "cell_type": "code",
      "source": [
        "dfRates = spark.read.csv('ratings.csv')"
      ],
      "execution_count": 0,
      "outputs": []
    },
    {
      "metadata": {
        "id": "GJCUZRQpLL2-",
        "colab_type": "code",
        "outputId": "21da0821-b03b-4194-bc51-fa84d812f0a0",
        "colab": {
          "base_uri": "https://localhost:8080/",
          "height": 459
        }
      },
      "cell_type": "code",
      "source": [
        "dfRates.show()"
      ],
      "execution_count": 0,
      "outputs": [
        {
          "output_type": "stream",
          "text": [
            "+---+---+---+\n",
            "|_c0|_c1|_c2|\n",
            "+---+---+---+\n",
            "| 10|  1|  1|\n",
            "| 18|  1|  2|\n",
            "| 13|  1|  1|\n",
            "|  7|  2|  2|\n",
            "|  4|  2|  2|\n",
            "| 13|  2|  3|\n",
            "| 19|  2|  2|\n",
            "| 12|  2|  1|\n",
            "| 11|  2|  1|\n",
            "|  1|  2|  2|\n",
            "| 20|  2|  2|\n",
            "|  2|  2|  4|\n",
            "|  3|  2|  1|\n",
            "|  0|  3|  4|\n",
            "|  4|  3|  5|\n",
            "|  8|  3|  4|\n",
            "|  7|  3|  4|\n",
            "| 10|  3|  5|\n",
            "| 16|  3|  5|\n",
            "| 21|  3|  5|\n",
            "+---+---+---+\n",
            "only showing top 20 rows\n",
            "\n"
          ],
          "name": "stdout"
        }
      ]
    },
    {
      "metadata": {
        "id": "hBM8D3sdLWGT",
        "colab_type": "code",
        "colab": {}
      },
      "cell_type": "code",
      "source": [
        "dfRates = spark.read.csv('ratings.csv',header=True, inferSchema=True).cache()"
      ],
      "execution_count": 0,
      "outputs": []
    },
    {
      "metadata": {
        "id": "smuc9IYhLlLd",
        "colab_type": "code",
        "outputId": "812befa6-48a4-4e5f-f93b-298edb90bfa9",
        "colab": {
          "base_uri": "https://localhost:8080/",
          "height": 204
        }
      },
      "cell_type": "code",
      "source": [
        "dfRates.show(5)"
      ],
      "execution_count": 0,
      "outputs": [
        {
          "output_type": "stream",
          "text": [
            "+---+---+---+\n",
            "| 10| 11| 12|\n",
            "+---+---+---+\n",
            "| 18|  1|  2|\n",
            "| 13|  1|  1|\n",
            "|  7|  2|  2|\n",
            "|  4|  2|  2|\n",
            "| 13|  2|  3|\n",
            "+---+---+---+\n",
            "only showing top 5 rows\n",
            "\n"
          ],
          "name": "stdout"
        }
      ]
    },
    {
      "metadata": {
        "id": "WIIQJ8lfL_pE",
        "colab_type": "code",
        "colab": {}
      },
      "cell_type": "code",
      "source": [
        "#df = df.withColumnRenamed(\"colName\", \"newColName\")\n",
        "#       .withColumnRenamed(\"colName2\", \"newColName2\")\n",
        "\n",
        "\n",
        "dfRates = dfRates.withColumnRenamed(\"10\", \"userId\")\\\n",
        ".withColumnRenamed(\"11\", \"accoId\")\\\n",
        ".withColumnRenamed(\"12\", \"rating\")"
      ],
      "execution_count": 0,
      "outputs": []
    },
    {
      "metadata": {
        "id": "fXfWueFGL_sH",
        "colab_type": "code",
        "outputId": "98f661c9-f6ee-4f40-d316-0e239556d3d2",
        "colab": {
          "base_uri": "https://localhost:8080/",
          "height": 204
        }
      },
      "cell_type": "code",
      "source": [
        "dfRates.show(5)\n"
      ],
      "execution_count": 0,
      "outputs": [
        {
          "output_type": "stream",
          "text": [
            "+------+------+------+\n",
            "|userId|accoId|rating|\n",
            "+------+------+------+\n",
            "|    18|     1|     2|\n",
            "|    13|     1|     1|\n",
            "|     7|     2|     2|\n",
            "|     4|     2|     2|\n",
            "|    13|     2|     3|\n",
            "+------+------+------+\n",
            "only showing top 5 rows\n",
            "\n"
          ],
          "name": "stdout"
        }
      ]
    },
    {
      "metadata": {
        "id": "tqgke_ssJXFA",
        "colab_type": "code",
        "colab": {}
      },
      "cell_type": "code",
      "source": [
        "def howFarAreWe(model, against, sizeAgainst):\n",
        "  # Ignore the rating column\n",
        "  againstNoRatings = against.map(lambda x: (int(x[0]), int(x[1])) )\n",
        "\n",
        "  # Keep the rating to compare against\n",
        "  againstWiRatings = against.map(lambda x: ((int(x[0]),int(x[1])), int(x[2])) )\n",
        "\n",
        "  # Make a prediction and map it for later comparison\n",
        "  # The map has to be ((user,product), rating) not ((product,user), rating)\n",
        "  predictions = model.predictAll(againstNoRatings).map(lambda p: ( (p[0],p[1]), p[2]) )\n",
        "\n",
        "  # Returns the pairs (prediction, rating)\n",
        "  predictionsAndRatings = predictions.join(againstWiRatings).values()\n",
        "\n",
        "  # Returns the variance\n",
        "  return sqrt(predictionsAndRatings.map(lambda s: (s[0] - s[1]) ** 2).reduce(add) / float(sizeAgainst))"
      ],
      "execution_count": 0,
      "outputs": []
    },
    {
      "metadata": {
        "id": "nTzV9RuzKq4t",
        "colab_type": "code",
        "outputId": "071950e5-5372-47f7-82da-3d58192e8a06",
        "colab": {
          "base_uri": "https://localhost:8080/",
          "height": 34
        }
      },
      "cell_type": "code",
      "source": [
        "rddUserRatings = dfRates.filter(dfRates.userId == 0).rdd\n",
        "print(rddUserRatings.count())"
      ],
      "execution_count": 0,
      "outputs": [
        {
          "output_type": "stream",
          "text": [
            "9\n"
          ],
          "name": "stdout"
        }
      ]
    },
    {
      "metadata": {
        "id": "IBOC7gnlKq7s",
        "colab_type": "code",
        "colab": {}
      },
      "cell_type": "code",
      "source": [
        "rddRates = dfRates.rdd\n",
        "rddTraining, rddValidating, rddTesting = rddRates.randomSplit([6,2,2])"
      ],
      "execution_count": 0,
      "outputs": []
    },
    {
      "metadata": {
        "id": "5S1iah_3Kq-b",
        "colab_type": "code",
        "colab": {}
      },
      "cell_type": "code",
      "source": [
        "rddTraining.union(rddUserRatings)\n",
        "nbValidating = rddValidating.count()\n",
        "nbTesting    = rddTesting.count()"
      ],
      "execution_count": 0,
      "outputs": []
    },
    {
      "metadata": {
        "id": "eZ6TaV4_KrBR",
        "colab_type": "code",
        "outputId": "a0ec7857-77f1-48d3-b447-76c5647efa68",
        "colab": {
          "base_uri": "https://localhost:8080/",
          "height": 34
        }
      },
      "cell_type": "code",
      "source": [
        "print(\"Training: %d, validation: %d, test: %d\" % (rddTraining.count(), nbValidating, rddTesting.count()))"
      ],
      "execution_count": 0,
      "outputs": [
        {
          "output_type": "stream",
          "text": [
            "Training: 720, validation: 228, test: 237\n"
          ],
          "name": "stdout"
        }
      ]
    },
    {
      "metadata": {
        "id": "l2A-WxeKKrDt",
        "colab_type": "code",
        "colab": {}
      },
      "cell_type": "code",
      "source": [
        "ranks  = [5,10,15,20]\n",
        "reguls = [0.1, 1,10]\n",
        "iters  = [5,10,20]\n",
        "\n",
        "finalModel = None\n",
        "finalRank  = 0\n",
        "finalRegul = float(0)\n",
        "finalIter  = -1\n",
        "finalDist   = float(100)\n"
      ],
      "execution_count": 0,
      "outputs": []
    },
    {
      "metadata": {
        "id": "Tj_u3Si8NLRC",
        "colab_type": "code",
        "colab": {}
      },
      "cell_type": "code",
      "source": [
        "from __future__ import print_function\n",
        "\n",
        "import sys\n",
        "import itertools\n",
        "from math import sqrt\n",
        "from operator import add\n",
        "from os.path import join, isfile, dirname\n",
        "from pyspark import SparkContext, SparkConf, SQLContext\n",
        "from pyspark.mllib.recommendation import ALS, MatrixFactorizationModel, Rating"
      ],
      "execution_count": 0,
      "outputs": []
    },
    {
      "metadata": {
        "id": "rEzvGazeJXH0",
        "colab_type": "code",
        "outputId": "7cdb5809-2da1-4e20-d28b-dd8616a9996b",
        "colab": {
          "base_uri": "https://localhost:8080/",
          "height": 136
        }
      },
      "cell_type": "code",
      "source": [
        "for cRank, cRegul, cIter in itertools.product(ranks, reguls, iters):\n",
        "\n",
        "  model = ALS.train(rddTraining, cRank, cIter, float(cRegul))\n",
        "  dist = howFarAreWe(model, rddValidating, nbValidating)\n",
        "  if dist < finalDist:\n",
        "    print(\"Best so far:%f\" % dist)\n",
        "    finalModel = model\n",
        "    finalRank  = cRank\n",
        "    finalRegul = cRegul\n",
        "    finalIter  = cIter\n",
        "    finalDist  = dist\n",
        "\n",
        "print(\"Rank %i\" % finalRank)\n",
        "print(\"Regul %f\" % finalRegul)\n",
        "print(\"Iter %i\" % finalIter)\n",
        "print(\"Dist %f\" % finalDist)\n",
        "\n"
      ],
      "execution_count": 0,
      "outputs": [
        {
          "output_type": "stream",
          "text": [
            "Best so far:1.306835\n",
            "Best so far:1.267861\n",
            "Best so far:1.232597\n",
            "Rank 10\n",
            "Regul 0.100000\n",
            "Iter 5\n",
            "Dist 1.232597\n"
          ],
          "name": "stdout"
        }
      ]
    },
    {
      "metadata": {
        "id": "ziZB-1nSM_9l",
        "colab_type": "code",
        "colab": {}
      },
      "cell_type": "code",
      "source": [
        ""
      ],
      "execution_count": 0,
      "outputs": []
    }
  ]
}